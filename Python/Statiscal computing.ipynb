{
 "cells": [
  {
   "cell_type": "markdown",
   "id": "eaeec4f9-40f5-4ae7-8ebf-6d6e4f760a8f",
   "metadata": {},
   "source": [
    "# Data exploration"
   ]
  },
  {
   "cell_type": "code",
   "execution_count": null,
   "id": "5980b47d-b02c-4ecd-a8e5-5ccfc00e6a99",
   "metadata": {},
   "outputs": [],
   "source": [
    "import pandas as pd\n",
    "import numpy as np\n",
    "import scipy as sp\n",
    "import matplotlib.pyplot as plt"
   ]
  },
  {
   "cell_type": "code",
   "execution_count": null,
   "id": "3504bd20-1afa-48a5-a6e6-35dfc54ad469",
   "metadata": {},
   "outputs": [],
   "source": [
    "table_name = pd.read_csv('directory.csv')"
   ]
  },
  {
   "cell_type": "markdown",
   "id": "0bdfc66c-5628-47a8-a909-8b676d182db1",
   "metadata": {},
   "source": [
    "## Estamates of location \n",
    "    1- Mean \\\n",
    "    2- Median"
   ]
  },
  {
   "cell_type": "code",
   "execution_count": null,
   "id": "a635b5cf-3068-4cb9-a58a-95a23683adb4",
   "metadata": {},
   "outputs": [],
   "source": [
    "def estamates_of_location(table_name, column_name):\n",
    "    mean = table_name[column_name].mean()\n",
    "    median = table_name[column_name].Median()\n",
    "    print (f'Mean ={mean} ,median ={median} /n')"
   ]
  },
  {
   "cell_type": "code",
   "execution_count": null,
   "id": "8e90113d-7c45-4cda-9026-d7c29734a184",
   "metadata": {},
   "outputs": [],
   "source": [
    "def trim_mean(table_name, column_name, percentage):\n",
    "    from scipy import state\n",
    "    return (state.trim_mean(table_name['column_name'], percentage))"
   ]
  },
  {
   "cell_type": "code",
   "execution_count": null,
   "id": "b98e5bf2-659f-426c-9052-bdfdfac13c97",
   "metadata": {},
   "outputs": [],
   "source": [
    "# Weight median\n",
    "np.average(table_name['column_name'], weights= table_name['column_name'])\n",
    "# or\n",
    "wquantiles.median(table_name['column_name'], weights= table_name['column_name'])"
   ]
  },
  {
   "cell_type": "markdown",
   "id": "88efb249-8f77-42a7-884f-425aa2fede28",
   "metadata": {},
   "source": [
    "## Estamets of variability\n",
    "    1- Standard deviation \\\n",
    "    2- interquantile \\\n",
    "    3- mean_absolute_dev "
   ]
  },
  {
   "cell_type": "code",
   "execution_count": null,
   "id": "c84e4d88-4f1e-4031-9e35-96539a6b9714",
   "metadata": {},
   "outputs": [],
   "source": [
    "def estamates_of_location (table_name, column_name):\n",
    "    from statemodels import robust\n",
    "    std_dev = table_name[column_name].std()\n",
    "    interquantile = table_name[column_name].quantile(0.75) - table_name[column_name].quantile(0.25) \n",
    "    mean_absolute_dev = robust.scale.mad(table_name[column_name])\n",
    "    print( f'std_dev = {std_dev}, interquantile = {interquantile}, mean_absolute_dev= {mean_absolute_dev}')"
   ]
  },
  {
   "cell_type": "markdown",
   "id": "dddf44a6-f75a-40e0-a68b-c0d97f7f18eb",
   "metadata": {},
   "source": [
    "## Exploring the data distribution\n",
    "    1- boxplot\n",
    "    2- frequency plot\n",
    "    3- histogram plot\n",
    "    4- density plot\n",
    "    5- barchart\n",
    "    6- scatter\n",
    "    7- Hexagonal\n",
    "    8- Contour\n",
    "    9- violinplot"
   ]
  },
  {
   "cell_type": "code",
   "execution_count": null,
   "id": "865db52c-2377-412f-9465-814a449f3ac6",
   "metadata": {},
   "outputs": [],
   "source": [
    "def ploting_data(table_name, column_name, plot_kind):\n",
    "    \n",
    "    if plot_kind == 'boxplot':\n",
    "        ax = (table_name[column_name]).plot.box()\n",
    "    if plot_kind == 'frequency':\n",
    "        bins = input(\"number of bins\")\n",
    "        fx = pd.cun(table_name[column_name].plot.box(), bins)\n",
    "    if plot_kind == 'histogram':\n",
    "        ax = table_name[column_name].plot.hist()\n",
    "    if plot_kind == 'histogram':\n",
    "        ax = table_name[column_name].plot.density()\n",
    "    if plot_kind == 'barchart':\n",
    "        ax = table_name['column_name'].plot.bar()\n",
    "    if plot_kind == 'scatter':\n",
    "        ax = table_name.plot.scatter(x= '', y= '')\n",
    "    if plot_kind == 'Hexagonal':\n",
    "        ax = table_name.plot.hexbin(x='',y='')\n",
    "    if plot_kind == 'Contour':\n",
    "        ax = sns.kdeplot(table_name.column_name, table_name.column_name, ax = ax)\n",
    "    if plot_kind == 'violinplot':\n",
    "        ax = sns.violinplot(tb_name.cb_name ,tb_name.cb_name)"
   ]
  },
  {
   "cell_type": "markdown",
   "id": "1e08dae8-a1c4-4ea6-9185-d4548819627d",
   "metadata": {},
   "source": [
    "## Correlation"
   ]
  },
  {
   "cell_type": "code",
   "execution_count": null,
   "id": "715b7d01-fcef-45a1-af2a-590d8fbe50e4",
   "metadata": {},
   "outputs": [],
   "source": [
    "# Correlation matrix\n",
    "table_name[['clmn1'],['clmn1'],['...']].corr()"
   ]
  },
  {
   "cell_type": "markdown",
   "id": "5e1c22eb-7507-40da-82a2-dc10becb3962",
   "metadata": {},
   "source": [
    "# Sampling distribution"
   ]
  }
 ],
 "metadata": {
  "kernelspec": {
   "display_name": "Python 3 (ipykernel)",
   "language": "python",
   "name": "python3"
  },
  "language_info": {
   "codemirror_mode": {
    "name": "ipython",
    "version": 3
   },
   "file_extension": ".py",
   "mimetype": "text/x-python",
   "name": "python",
   "nbconvert_exporter": "python",
   "pygments_lexer": "ipython3",
   "version": "3.10.12"
  }
 },
 "nbformat": 4,
 "nbformat_minor": 5
}
