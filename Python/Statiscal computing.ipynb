{
 "cells": [
  {
   "cell_type": "code",
   "execution_count": null,
   "id": "5980b47d-b02c-4ecd-a8e5-5ccfc00e6a99",
   "metadata": {},
   "outputs": [],
   "source": [
    "import pandas as pd\n",
    "import numpy as np\n",
    "import scipy as sp\n",
    "import matplotlib.pyplot as plt"
   ]
  },
  {
   "cell_type": "code",
   "execution_count": null,
   "id": "3504bd20-1afa-48a5-a6e6-35dfc54ad469",
   "metadata": {},
   "outputs": [],
   "source": [
    "table_name = pd.read_csv('directory.csv')"
   ]
  },
  {
   "cell_type": "markdown",
   "id": "0bdfc66c-5628-47a8-a909-8b676d182db1",
   "metadata": {},
   "source": [
    "# Estamates of location "
   ]
  },
  {
   "cell_type": "code",
   "execution_count": null,
   "id": "a635b5cf-3068-4cb9-a58a-95a23683adb4",
   "metadata": {},
   "outputs": [],
   "source": [
    "def estamates_of_location(table_name, column_name):\n",
    "    mean = table_name[column_name].mean()\n",
    "    median = table_name[column_name].Median()\n",
    "    print (f'Mean ={mean} ,median ={median} /n')"
   ]
  },
  {
   "cell_type": "code",
   "execution_count": null,
   "id": "8e90113d-7c45-4cda-9026-d7c29734a184",
   "metadata": {},
   "outputs": [],
   "source": [
    "def trim_mean(table_name, column_name, percentage):\n",
    "    from scipy import state\n",
    "    return (state.trim_mean(table_name['column_name'], percentage))"
   ]
  },
  {
   "cell_type": "code",
   "execution_count": null,
   "id": "b98e5bf2-659f-426c-9052-bdfdfac13c97",
   "metadata": {},
   "outputs": [],
   "source": [
    "# Weight median\n",
    "np.average(table_name['column_name'], weights= table_name['column_name'])\n",
    "# or\n",
    "wquantiles.median(table_name['column_name'], weights= table_name['column_name'])"
   ]
  }
 ],
 "metadata": {
  "kernelspec": {
   "display_name": "Python 3 (ipykernel)",
   "language": "python",
   "name": "python3"
  },
  "language_info": {
   "codemirror_mode": {
    "name": "ipython",
    "version": 3
   },
   "file_extension": ".py",
   "mimetype": "text/x-python",
   "name": "python",
   "nbconvert_exporter": "python",
   "pygments_lexer": "ipython3",
   "version": "3.10.12"
  }
 },
 "nbformat": 4,
 "nbformat_minor": 5
}
