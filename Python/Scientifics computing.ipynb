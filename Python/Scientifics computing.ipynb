{
 "cells": [
  {
   "cell_type": "code",
   "execution_count": 1,
   "id": "3993f53d-d7e0-447d-90d8-66ff710047e7",
   "metadata": {},
   "outputs": [],
   "source": [
    "import pandas as pd\n",
    "import numpy as np\n",
    "import seaborn as sns\n",
    "from matplotlib import pyplot as plt\n",
    "from scipy import stats\n",
    "%matplotlib inline"
   ]
  },
  {
   "cell_type": "markdown",
   "id": "094db085-881e-4cbf-bca7-374e6266c9ad",
   "metadata": {},
   "source": [
    "download csv"
   ]
  },
  {
   "cell_type": "code",
   "execution_count": 2,
   "id": "842af916-cd34-4740-a7ab-19b592da13e2",
   "metadata": {},
   "outputs": [],
   "source": [
    "url = \"https://archive.ics.uci.edu/ml/machine-learning-databases/autos/imports-85.data\""
   ]
  },
  {
   "cell_type": "code",
   "execution_count": 3,
   "id": "e7c2b3bd-70bd-4a69-b634-f06e68904227",
   "metadata": {},
   "outputs": [],
   "source": [
    "df = pd.read_csv(url , header = None)"
   ]
  },
  {
   "cell_type": "code",
   "execution_count": 4,
   "id": "8de5d21a-0efc-4cdd-b305-967f8be9e522",
   "metadata": {},
   "outputs": [],
   "source": [
    "headers = [\"symboling\", \"normalized-losses\", \"make\", \"fuel-type\", \"aspiration\", \"num_of_doors\", \"body-style\", \"drive-wheels\",\n",
    "           \"engine-location\", \"wheel-base\", \"length\", \"width\", \"height\", \"crub-weight\", \"engine-type\", \"num-of-cylinders\", \n",
    "           \"engine-size\",\n",
    "           \"fuel-system\", \"bore\", \"stroke\", \"compression-ratio\", \"horsepower\", \"peak-rpm\", \"city-mpg\", \"highway-mpg\", \"price\"]"
   ]
  },
  {
   "cell_type": "code",
   "execution_count": 5,
   "id": "662e852c-0056-424b-bfe2-e6ad71a5fbe0",
   "metadata": {},
   "outputs": [],
   "source": [
    "df.columns = headers"
   ]
  },
  {
   "cell_type": "code",
   "execution_count": 22,
   "id": "2142b6fb-2f90-475f-90c2-caeb7a887f62",
   "metadata": {},
   "outputs": [],
   "source": [
    "herd_dict = {\n",
    "    \"name\" : [\"Bluebell\", \"Daisy\", \"Nellie\"],  #one column in data frame\n",
    "    \"breed\" : [\"Holstein\", \"Jersey\", \"Holstein\"],\n",
    "    \"weight\" : [1305, 807, 1296],\n",
    "    \"GPD\"    : [8.9, 5.8, 9.1]\n",
    "}"
   ]
  },
  {
   "cell_type": "markdown",
   "id": "96bc75cb-8487-4572-b022-44b30ce5f224",
   "metadata": {},
   "source": [
    "download excell"
   ]
  },
  {
   "cell_type": "code",
   "execution_count": null,
   "id": "fbd5c0b8-2950-4817-a017-fd50fa02559b",
   "metadata": {},
   "outputs": [],
   "source": [
    "pip install openpyxl # for read exel file in pandas"
   ]
  },
  {
   "cell_type": "code",
   "execution_count": null,
   "id": "859fedcc-3dc9-4b1c-9322-8089499854ca",
   "metadata": {},
   "outputs": [],
   "source": [
    "df_can = pd.read_excel(\n",
    "    'https://cf-courses-data.s3.us.cloud-object-storage.appdomain.cloud/IBMDeveloperSkillsNetwork-DV0101EN-SkillsNetwork/Data%20Files/Canada.xlsx',\n",
    "    sheet_name='Canada by Citizenship',\n",
    "    skiprows=range(20),\n",
    "    skipfooter=2)"
   ]
  },
  {
   "cell_type": "markdown",
   "id": "dbde83eb-c579-44df-980b-c2749a3c5aea",
   "metadata": {},
   "source": [
    "## basic insights about data"
   ]
  },
  {
   "cell_type": "code",
   "execution_count": null,
   "id": "1f014763-030d-46ba-84d1-481274a299fa",
   "metadata": {},
   "outputs": [],
   "source": [
    "df.dtypes"
   ]
  },
  {
   "cell_type": "code",
   "execution_count": null,
   "id": "4d11e8b7-7976-40c6-8110-75582ed99296",
   "metadata": {},
   "outputs": [],
   "source": [
    "df.describe(include=\"all\")"
   ]
  },
  {
   "cell_type": "code",
   "execution_count": null,
   "id": "00776004-5581-4e60-9c31-20ff5e0dc7b5",
   "metadata": {},
   "outputs": [],
   "source": [
    "df.info(verbose=False)"
   ]
  },
  {
   "cell_type": "code",
   "execution_count": null,
   "id": "8ad0a946-e4f8-49af-96d9-2c612769855f",
   "metadata": {},
   "outputs": [],
   "source": [
    "df_can.columns\n",
    "df_can.index"
   ]
  },
  {
   "cell_type": "markdown",
   "id": "f1af6454-84f9-495d-bacd-eb76e6be3aa8",
   "metadata": {},
   "source": [
    "To get the index and columns as lists, we can use the `tolist()` method."
   ]
  },
  {
   "cell_type": "code",
   "execution_count": null,
   "id": "9736b187-efcf-4943-a690-1b5d37d5f24f",
   "metadata": {},
   "outputs": [],
   "source": [
    "df_can.columns.tolist()\n",
    "df_can.index.tolist()"
   ]
  },
  {
   "cell_type": "code",
   "execution_count": null,
   "id": "c11fa1be-019d-44ae-af66-ea65d9e61ef7",
   "metadata": {},
   "outputs": [],
   "source": [
    "# size of dataframe (rows, columns)\n",
    "df_can.shape"
   ]
  },
  {
   "cell_type": "markdown",
   "id": "43f3f014-63e8-4301-80f2-90948744ee60",
   "metadata": {},
   "source": [
    "## data cleaning"
   ]
  },
  {
   "cell_type": "code",
   "execution_count": 7,
   "id": "af328927-7704-4984-a2c2-af08d7f82412",
   "metadata": {},
   "outputs": [],
   "source": [
    "df = df.replace('?',np.NaN)"
   ]
  },
  {
   "cell_type": "code",
   "execution_count": null,
   "id": "d75a6627-e71e-4e08-ba72-3138f2a09ea9",
   "metadata": {},
   "outputs": [],
   "source": [
    "#Fill NA/NaN values using the specified method.\n",
    "df['clmn_name'] = df['clmn_name'].fillna('text') "
   ]
  },
  {
   "cell_type": "markdown",
   "id": "30bba44e-0de9-4176-9e65-6c58c7252e7f",
   "metadata": {},
   "source": [
    "drop rows that its price is nan \\\n",
    "axis = 0 : drops the entire row \\\n",
    "axis = 1 : drops the entire column \\\n",
    "inplace = True : create new dataframe base on drop nan "
   ]
  },
  {
   "cell_type": "code",
   "execution_count": 16,
   "id": "ea13a419-ae27-4e71-81fe-04495b66c96a",
   "metadata": {},
   "outputs": [],
   "source": [
    "df.dropna(subset=[\"price\"], axis=0, inplace=True)"
   ]
  },
  {
   "cell_type": "code",
   "execution_count": null,
   "id": "13ca8c91-88e0-4c5f-b16d-e1f1e5dd0996",
   "metadata": {},
   "outputs": [],
   "source": [
    "df.dropna(subset=['Title','Salary'], how='all')  \n",
    "# This drops a row only if both (all of) 'Title' and 'Salary' are missing a value"
   ]
  },
  {
   "cell_type": "code",
   "execution_count": null,
   "id": "5a36ca54-7f10-4968-94b7-4072be0a4348",
   "metadata": {},
   "outputs": [],
   "source": [
    "# find null and not null value in a column\n",
    "df['clmn'].isna()\n",
    "df['clmn'].notna()"
   ]
  },
  {
   "cell_type": "code",
   "execution_count": null,
   "id": "46cb57e8-79bc-4555-a0cc-1cc0b22a74aa",
   "metadata": {},
   "outputs": [],
   "source": [
    "# replace texts in a column with new text\n",
    "df['title'] = df['title'].replace('current text' : 'new text')"
   ]
  },
  {
   "cell_type": "code",
   "execution_count": null,
   "id": "3602a5a2-e22d-4cdd-89bb-61e0be7ce637",
   "metadata": {},
   "outputs": [],
   "source": [
    "df.rename(columns={\"city_mpg\": \"city-L/100km\"}, inplace=True)"
   ]
  },
  {
   "cell_type": "code",
   "execution_count": 17,
   "id": "bf560ac7-3cdd-400d-adb6-efb9fd48e466",
   "metadata": {},
   "outputs": [],
   "source": [
    "df[\"price\"] = df[\"price\"].astype(\"int\")"
   ]
  },
  {
   "cell_type": "code",
   "execution_count": null,
   "id": "df5853c3-49b3-4786-9fb6-82e425600985",
   "metadata": {},
   "outputs": [],
   "source": [
    "# in pandas axis=0 represents rows (default) and axis=1 represents columns.\n",
    "df_can.drop(['AREA','REG','DEV','Type','Coverage'], axis=1, inplace=True)"
   ]
  },
  {
   "cell_type": "code",
   "execution_count": null,
   "id": "340963b7-f368-495b-a510-489e30613bd1",
   "metadata": {},
   "outputs": [],
   "source": [
    "df_can.rename(columns={'OdName':'Country', 'AreaName':'Continent', 'RegName':'Region'}, inplace=True)"
   ]
  },
  {
   "cell_type": "code",
   "execution_count": null,
   "id": "febeae54-5369-453b-af23-ed7b1f875a3a",
   "metadata": {},
   "outputs": [],
   "source": [
    "df_can['Total'] = df_can.sum(axis=1)"
   ]
  },
  {
   "cell_type": "code",
   "execution_count": null,
   "id": "4b2113eb-40d6-4e33-81ac-16888f99284b",
   "metadata": {},
   "outputs": [],
   "source": [
    "df_can.isnull().sum()"
   ]
  },
  {
   "cell_type": "markdown",
   "id": "af2b7ddd-9b3b-4e2a-9823-2008ba387519",
   "metadata": {},
   "source": [
    "## Indexing and Selection (slicing)"
   ]
  },
  {
   "cell_type": "markdown",
   "id": "6a1b478f-75d6-48a9-9ee7-6ed41c335355",
   "metadata": {},
   "source": [
    "### Select Column\n",
    "**There are two ways to filter on a column name:**\n",
    "\n",
    "Method 1: Quick and easy, but only works if the column name does NOT have spaces or special characters.\n",
    "```python\n",
    "    df.column_name               # returns series\n",
    "```\n",
    "\n",
    "Method 2: More robust, and can filter on multiple columns.\n",
    "\n",
    "```python\n",
    "    df['column']                  # returns series\n",
    "```\n",
    "\n",
    "```python \n",
    "    df[['column 1', 'column 2']]  # returns dataframe\n",
    "```\n",
    "---\n"
   ]
  },
  {
   "cell_type": "markdown",
   "id": "75c3a2f0-a4c5-4d31-b438-bb1f192bc804",
   "metadata": {},
   "source": [
    "### Select Row\n",
    "\n",
    "There are main 2 ways to select rows:\n",
    "\n",
    "```python\n",
    "    df.loc[label]    # filters by the labels of the index/column\n",
    "    df.iloc[index]   # filters by the positions of the index/column\n",
    "```\n"
   ]
  },
  {
   "cell_type": "code",
   "execution_count": null,
   "id": "51f13944-3cde-4f54-836e-94b15e058a4a",
   "metadata": {},
   "outputs": [],
   "source": [
    "df_can.set_index('Country', inplace=True)\n",
    "# tip: The opposite of set is reset. So to reset the index, we can use df_can.reset_index()"
   ]
  },
  {
   "cell_type": "code",
   "execution_count": null,
   "id": "935ecf67-0e11-46ba-89d8-6089bc3b26a0",
   "metadata": {},
   "outputs": [],
   "source": [
    "# to remove the name of the index\n",
    "df_can.index.name = None"
   ]
  },
  {
   "cell_type": "markdown",
   "id": "0fa4d473-eacc-42e2-85eb-e80554edb29c",
   "metadata": {},
   "source": [
    "Example: Let's view the number of immigrants from Japan (row 87) for the following scenarios:\n",
    "    1. The full row data (all columns)\n",
    "    2. For year 2013\n",
    "    3. For years 1980 to 1985\n"
   ]
  },
  {
   "cell_type": "code",
   "execution_count": null,
   "id": "f6fc6165-674e-4a2e-b9f5-637097eab2fe",
   "metadata": {},
   "outputs": [],
   "source": [
    "# 1. the full row data (all columns)\n",
    "df_can.loc['Japan']"
   ]
  },
  {
   "cell_type": "code",
   "execution_count": null,
   "id": "f74de00c-11da-4237-bf59-935ada4fdbaf",
   "metadata": {},
   "outputs": [],
   "source": [
    "# alternate methods\n",
    "df_can.iloc[87]"
   ]
  },
  {
   "cell_type": "code",
   "execution_count": null,
   "id": "391e9585-0e0d-4435-bcf5-4b59681fd3d5",
   "metadata": {},
   "outputs": [],
   "source": [
    "df_can[df_can.index == 'Japan']"
   ]
  },
  {
   "cell_type": "code",
   "execution_count": null,
   "id": "549cb705-600c-46e9-b8a6-45c6fc51c919",
   "metadata": {},
   "outputs": [],
   "source": [
    "# 2. for year 2013\n",
    "df_can.loc['Japan', 2013]"
   ]
  },
  {
   "cell_type": "code",
   "execution_count": null,
   "id": "155bdcb0-2b32-4910-be9b-56a3dfc4b404",
   "metadata": {},
   "outputs": [],
   "source": [
    "# alternate method\n",
    "# year 2013 is the last column, with a positional index of 36\n",
    "df_can.iloc[87, 36]"
   ]
  },
  {
   "cell_type": "code",
   "execution_count": null,
   "id": "f80b8b31-4d1d-41b5-84e2-62509813aee5",
   "metadata": {},
   "outputs": [],
   "source": [
    "# 3. for years 1980 to 1985\n",
    "df_can.loc['Japan', [1980, 1981, 1982, 1983, 1984, 1984]]"
   ]
  },
  {
   "cell_type": "code",
   "execution_count": null,
   "id": "cb32e10b-d806-4f11-adf3-794a1766f70e",
   "metadata": {},
   "outputs": [],
   "source": [
    "# Alternative Method\n",
    "df_can.iloc[87, [3, 4, 5, 6, 7, 8]]"
   ]
  },
  {
   "cell_type": "code",
   "execution_count": null,
   "id": "9afd26bc-a76b-481b-97aa-36a301fe015b",
   "metadata": {},
   "outputs": [],
   "source": [
    "# convert all column names to string\n",
    "df_can.columns = list(map(str, df_can.columns))\n",
    "# [print (type(x)) for x in df_can.columns.values] #<-- uncomment to check type of column headers"
   ]
  },
  {
   "cell_type": "code",
   "execution_count": null,
   "id": "f7955b49-f8a8-4ab4-bcb6-1d8cedc9c82b",
   "metadata": {},
   "outputs": [],
   "source": [
    "years = list(map(str, range(1980, 2014)))"
   ]
  },
  {
   "cell_type": "markdown",
   "id": "82710f8c-6ade-46ff-aa45-44c7ec518a2d",
   "metadata": {},
   "source": [
    "### Filtering based on a criteria"
   ]
  },
  {
   "cell_type": "code",
   "execution_count": null,
   "id": "a5e32731-8e03-4dc1-8058-f26be1b87477",
   "metadata": {},
   "outputs": [],
   "source": [
    "# 1. create the condition boolean series\n",
    "condition = df_can['Continent'] == 'Asia'\n",
    "print(condition)"
   ]
  },
  {
   "cell_type": "code",
   "execution_count": null,
   "id": "cbcb84c3-81f6-43ba-b8ee-dd90aebb26ce",
   "metadata": {},
   "outputs": [],
   "source": [
    "# 2. pass this condition into the dataFrame\n",
    "df_can[condition]"
   ]
  },
  {
   "cell_type": "code",
   "execution_count": null,
   "id": "e83e10cc-1ab4-4326-9949-4d1e6c49123f",
   "metadata": {},
   "outputs": [],
   "source": [
    "# find rows contain strings\n",
    "title = df['text_column'].str.contains('text term')\n",
    "df [title]"
   ]
  },
  {
   "cell_type": "code",
   "execution_count": null,
   "id": "d0cf1ffc-bbde-44fa-b15e-6df13053ab31",
   "metadata": {},
   "outputs": [],
   "source": [
    "# multiple criteria .\n",
    "# let's filter for AreaNAme = Asia and RegName = Southern Asia\n",
    "\n",
    "df_can[(df_can['Continent']=='Asia') & (df_can['Region']=='Southern Asia')]\n",
    "\n",
    "# note: When using 'and' and 'or' operators, pandas requires we use '&' and '|' instead of 'and' and 'or'\n",
    "# don't forget to enclose the two conditions in parentheses"
   ]
  },
  {
   "cell_type": "markdown",
   "id": "9f0834cf-ed48-456c-b6a1-b5a0c3b8c190",
   "metadata": {},
   "source": [
    "### Sorting Values of a Dataframe or Series\n",
    "```df.sort_values(col_name, axis=0, ascending=True, inplace=False, ignore_index=False)```<br><br>\n",
    "col_nam - the column(s) to sort by. <br>\n",
    "axis - axis along which to sort. 0 for sorting by rows (default) and 1 for sorting by columns.<br>\n",
    "ascending - to sort in ascending order (True, default) or descending order (False).<br>\n",
    "inplace - to perform the sorting operation in-place (True) or return a sorted copy (False, default).<br>\n",
    "ignore_index - to reset the index after sorting (True) or keep the original index values (False, default).<br>"
   ]
  },
  {
   "cell_type": "code",
   "execution_count": null,
   "id": "bf0d578f-2a5d-4a29-8755-48d2ba51dd7a",
   "metadata": {},
   "outputs": [],
   "source": [
    "df_can.sort_values(by='Total', ascending=False, axis=0, inplace=True)\n",
    "df_can.sort_values(by=['Seniority','Salary'],ascending=[False,True])"
   ]
  },
  {
   "cell_type": "markdown",
   "id": "56b7aaeb-6929-4645-a8f2-f4097da8a337",
   "metadata": {},
   "source": [
    "## data normalization "
   ]
  },
  {
   "cell_type": "code",
   "execution_count": null,
   "id": "d75837ec-ff15-40a6-a31f-583a9012206a",
   "metadata": {},
   "outputs": [],
   "source": [
    "df[\"length\"] = df[\"length\"]/ df[\"length\"].max() #simple feachere scaling"
   ]
  },
  {
   "cell_type": "code",
   "execution_count": null,
   "id": "e8584621-d62b-4086-b556-27313d371c41",
   "metadata": {},
   "outputs": [],
   "source": [
    "df[\"length\"] = (df[\"length\"] - df[\"length\"].mean() ) / df[\"length\"].std() # Z-score method"
   ]
  },
  {
   "cell_type": "markdown",
   "id": "10e2c075-852e-4fce-9cd3-0c69a8d6a087",
   "metadata": {},
   "source": [
    "## Binnig"
   ]
  },
  {
   "cell_type": "code",
   "execution_count": null,
   "id": "71c8e18c-24cf-4a39-9cd1-3ae8e212d2ce",
   "metadata": {},
   "outputs": [],
   "source": [
    "bins = np.linspace(min(df[\"price\"]) , max(df[\"price\"]) , 4)"
   ]
  },
  {
   "cell_type": "code",
   "execution_count": null,
   "id": "4578dd7c-0f5f-4f86-b63a-0e665fa3aafc",
   "metadata": {},
   "outputs": [],
   "source": [
    "group_names = [\"low\", \"medium\", \"High\"]"
   ]
  },
  {
   "cell_type": "code",
   "execution_count": null,
   "id": "7e8c0737-a2bd-4e86-b248-ee0cd0627538",
   "metadata": {},
   "outputs": [],
   "source": [
    "df[\"price-binned\"] = pd.cut(df[\"price\"], bins , labels = group_names, include_lowest=True)"
   ]
  },
  {
   "cell_type": "markdown",
   "id": "8555d707-ed7d-4726-b204-4c6379d2e85c",
   "metadata": {},
   "source": [
    "## dummy variables"
   ]
  },
  {
   "cell_type": "code",
   "execution_count": null,
   "id": "73fe7e22-ce83-47f0-b4a2-ae5c1428b069",
   "metadata": {},
   "outputs": [],
   "source": [
    "pd.get_dummies(df['fuel'])"
   ]
  },
  {
   "cell_type": "markdown",
   "id": "a383fb84-64f8-4910-beaf-87a0e4de5c33",
   "metadata": {},
   "source": [
    "# Exploratory data analysis (EDA)"
   ]
  },
  {
   "cell_type": "markdown",
   "id": "bdaebbd1-80fa-4e97-a19d-7b0d98e920d6",
   "metadata": {},
   "source": [
    "## Descriptive statistics"
   ]
  },
  {
   "cell_type": "code",
   "execution_count": null,
   "id": "ea7056ee-dc41-4907-8e38-3e59a9a15194",
   "metadata": {},
   "outputs": [],
   "source": [
    "df.describe()"
   ]
  },
  {
   "cell_type": "code",
   "execution_count": null,
   "id": "614a8917-d3ba-4e37-94c5-3a9975f04e7e",
   "metadata": {},
   "outputs": [],
   "source": [
    "df[\"drive-wheels\"].value_counts()"
   ]
  },
  {
   "cell_type": "code",
   "execution_count": null,
   "id": "0237256b-e456-45fa-b7b5-690f0bfd6191",
   "metadata": {},
   "outputs": [],
   "source": [
    "sns.boxplot(x=\"drive-wheels\" , y=\"price\", data=df)"
   ]
  },
  {
   "cell_type": "markdown",
   "id": "42751609-9c38-48f1-b356-96ab91a72eb0",
   "metadata": {},
   "source": [
    "scotter plot\n",
    "set target variable on y axis\n",
    "set predictor variable on x axis"
   ]
  },
  {
   "cell_type": "code",
   "execution_count": null,
   "id": "93772a26-c2ff-42be-bb8d-d1f4695e8f6d",
   "metadata": {},
   "outputs": [],
   "source": [
    "y = df[\"price\"]\n",
    "x = df[\"engine-size\"]\n",
    "plt.scatter(x,y)\n",
    "plt.title(\"title\")\n",
    "plt.xlabel(\"engine size\")\n",
    "plt.ylabel(\"price\")\n"
   ]
  },
  {
   "cell_type": "code",
   "execution_count": null,
   "id": "09b5c27f-4d8d-4e8a-82c5-35b64f31948b",
   "metadata": {},
   "outputs": [],
   "source": [
    "df_group_one = df[['drive-wheels','body-style','price']]\n",
    "df_group_one = df_group_one.groupby(['drive-wheels'],as_index=False).mean()\n",
    "df_gptest = df[['drive-wheels','body-style','price']]\n",
    "grouped_test1 = df_gptest.groupby(['drive-wheels','body-style'],as_index=False).mean()\n",
    "grouped_pivot = grouped_test1.pivot(index='drive-wheels',columns='body-style')\n",
    "grouped_pivot = grouped_pivot.fillna(0) #fill missing values with 0"
   ]
  },
  {
   "cell_type": "code",
   "execution_count": null,
   "id": "6c93abb3-100f-476d-b308-39119f70a398",
   "metadata": {},
   "outputs": [],
   "source": [
    "df.groupby('plateclass').agg(['mean','median','count'])"
   ]
  },
  {
   "cell_type": "code",
   "execution_count": null,
   "id": "d8f9e6a7-7b5a-48c2-97a2-f79d32572336",
   "metadata": {},
   "outputs": [],
   "source": [
    "df_pivot = df_grp.pivot(index='drive-wheels', columns='body-style')"
   ]
  },
  {
   "cell_type": "code",
   "execution_count": null,
   "id": "0f093f75-d0c1-4a16-99d4-4ed0522b9ede",
   "metadata": {},
   "outputs": [],
   "source": [
    "plt.pcolor(df_pivot, cmap='RdBu')\n",
    "plt.colorbar()\n",
    "plt.show()"
   ]
  },
  {
   "cell_type": "markdown",
   "id": "e0b0be52-2aac-420d-ad17-e72978fb028c",
   "metadata": {},
   "source": [
    "# Data Visualization commands in Python"
   ]
  },
  {
   "cell_type": "code",
   "execution_count": null,
   "id": "1ca70055-eb14-4694-858a-e190083b215b",
   "metadata": {},
   "outputs": [],
   "source": [
    "from matplotlib import pyplot as plt\n",
    "import seaborn as sns"
   ]
  },
  {
   "cell_type": "code",
   "execution_count": null,
   "id": "880cc46f-b8a8-46d5-9cc3-5fcfaf96ad57",
   "metadata": {},
   "outputs": [],
   "source": [
    "# standard line plot\n",
    "plt.plot(x,y) "
   ]
  },
  {
   "cell_type": "code",
   "execution_count": null,
   "id": "8d0d4738-ccec-4b9f-ba1c-4e2078782026",
   "metadata": {},
   "outputs": [],
   "source": [
    "#scatter plt\n",
    "plt.scatter(x,y)"
   ]
  },
  {
   "cell_type": "code",
   "execution_count": null,
   "id": "5528123e-9c98-49f0-b389-0c873e936704",
   "metadata": {},
   "outputs": [],
   "source": [
    "# histogram\n",
    "plt.hist(x,bins)"
   ]
  },
  {
   "cell_type": "code",
   "execution_count": null,
   "id": "8d8ea67f-a56c-4449-a231-93968127cbe6",
   "metadata": {},
   "outputs": [],
   "source": [
    "# Bar plot\n",
    "plt.bar(x,height)"
   ]
  },
  {
   "cell_type": "code",
   "execution_count": null,
   "id": "c9ce5e24-13a8-4cd5-b474-3322cda9130e",
   "metadata": {},
   "outputs": [],
   "source": [
    "# Pseudo Color Plot\n",
    "plt.pcolor(C)"
   ]
  },
  {
   "cell_type": "code",
   "execution_count": null,
   "id": "bf0e9fdf-b035-4564-b33c-6f928296bee7",
   "metadata": {},
   "outputs": [],
   "source": [
    "#Regression plot\n",
    "sns.regplot(x = 'header_1',y = 'header_2',data= df)"
   ]
  },
  {
   "cell_type": "code",
   "execution_count": null,
   "id": "9c3697ed-2e4a-4e05-ba90-ca5ed3d42746",
   "metadata": {},
   "outputs": [],
   "source": [
    "# Box and whisker plot\n"
   ]
  },
  {
   "cell_type": "code",
   "execution_count": null,
   "id": "8e82da61-248a-4055-b090-8afcbb71ec0d",
   "metadata": {},
   "outputs": [],
   "source": [
    "# Residual Plot\n",
    "sns.residplot(data=df,x='header_1', y='header_2')"
   ]
  },
  {
   "cell_type": "code",
   "execution_count": null,
   "id": "e7183241-31b7-4bd4-bb28-d02c0f94d2d7",
   "metadata": {},
   "outputs": [],
   "source": [
    "#  KDE plot\n",
    "sns.kdeplot(X)"
   ]
  },
  {
   "cell_type": "code",
   "execution_count": null,
   "id": "84d8bef0-8576-4b8e-8874-b54f5161ecd0",
   "metadata": {},
   "outputs": [],
   "source": [
    "# Distribution Plot\n",
    "sns.distplot(X,hist=False)"
   ]
  },
  {
   "cell_type": "markdown",
   "id": "1fc5503a-72ef-4016-9cc5-ce8d2e59f5d9",
   "metadata": {},
   "source": [
    "## correlation"
   ]
  },
  {
   "cell_type": "code",
   "execution_count": null,
   "id": "5b930bcc-0207-4805-be2d-a390e2dce4fe",
   "metadata": {},
   "outputs": [],
   "source": [
    "# between two feachers\n",
    "sns.regplot(x=\"engine-size\", y=\"price\", data = df)\n",
    "plt.ylim(0,)"
   ]
  },
  {
   "cell_type": "code",
   "execution_count": null,
   "id": "5bcb768a-e0c3-45dd-b5b9-66140924dfae",
   "metadata": {},
   "outputs": [],
   "source": [
    "pearson_coef, p_value = stats.pearsonr(df[\"horsepower\"], df['price'])"
   ]
  },
  {
   "cell_type": "markdown",
   "id": "4dd83069-ac9d-4417-9876-610a39f2ecce",
   "metadata": {},
   "source": [
    "### correlation matrix"
   ]
  },
  {
   "cell_type": "code",
   "execution_count": null,
   "id": "206cf8ae-3b85-42ef-ac9a-5873872fb6d8",
   "metadata": {},
   "outputs": [],
   "source": [
    "corr_matrix = df.corr()\n",
    "sns.heatmap(corr_matrix, annot=True, cmap='coolwarm')"
   ]
  },
  {
   "cell_type": "code",
   "execution_count": null,
   "id": "9b4433ca-8574-40bd-9105-f8913f0e3fba",
   "metadata": {},
   "outputs": [],
   "source": [
    "import sweetviz as sv\n",
    "report = sv.analyze(df, target_feat= 'price')\n",
    "report.show_html()"
   ]
  },
  {
   "cell_type": "markdown",
   "id": "08fab076-e09e-4612-8374-b709c54287d2",
   "metadata": {},
   "source": [
    "# Model deployment"
   ]
  },
  {
   "cell_type": "markdown",
   "id": "82adf602-e2b2-43d3-b428-579aa750022e",
   "metadata": {},
   "source": [
    "## Linier regression"
   ]
  },
  {
   "cell_type": "code",
   "execution_count": 11,
   "id": "d495b121-275a-46bf-8a8a-d15c193889cc",
   "metadata": {},
   "outputs": [],
   "source": [
    "from sklearn.linear_model import LinearRegression"
   ]
  },
  {
   "cell_type": "code",
   "execution_count": 12,
   "id": "1f918b12-a85c-4844-8172-0c90128adc5e",
   "metadata": {},
   "outputs": [],
   "source": [
    "lm = LinearRegression()"
   ]
  },
  {
   "cell_type": "code",
   "execution_count": 13,
   "id": "78f239bf-5425-471a-9483-8f1b5f4e8b92",
   "metadata": {},
   "outputs": [],
   "source": [
    "X = df[['highway-mpg']]\n",
    "Y = df['price']"
   ]
  },
  {
   "cell_type": "code",
   "execution_count": 14,
   "id": "68fd0a59-97bf-44a8-a462-b08bf914b718",
   "metadata": {},
   "outputs": [
    {
     "data": {
      "text/html": [
       "<style>#sk-container-id-1 {\n",
       "  /* Definition of color scheme common for light and dark mode */\n",
       "  --sklearn-color-text: black;\n",
       "  --sklearn-color-line: gray;\n",
       "  /* Definition of color scheme for unfitted estimators */\n",
       "  --sklearn-color-unfitted-level-0: #fff5e6;\n",
       "  --sklearn-color-unfitted-level-1: #f6e4d2;\n",
       "  --sklearn-color-unfitted-level-2: #ffe0b3;\n",
       "  --sklearn-color-unfitted-level-3: chocolate;\n",
       "  /* Definition of color scheme for fitted estimators */\n",
       "  --sklearn-color-fitted-level-0: #f0f8ff;\n",
       "  --sklearn-color-fitted-level-1: #d4ebff;\n",
       "  --sklearn-color-fitted-level-2: #b3dbfd;\n",
       "  --sklearn-color-fitted-level-3: cornflowerblue;\n",
       "\n",
       "  /* Specific color for light theme */\n",
       "  --sklearn-color-text-on-default-background: var(--sg-text-color, var(--theme-code-foreground, var(--jp-content-font-color1, black)));\n",
       "  --sklearn-color-background: var(--sg-background-color, var(--theme-background, var(--jp-layout-color0, white)));\n",
       "  --sklearn-color-border-box: var(--sg-text-color, var(--theme-code-foreground, var(--jp-content-font-color1, black)));\n",
       "  --sklearn-color-icon: #696969;\n",
       "\n",
       "  @media (prefers-color-scheme: dark) {\n",
       "    /* Redefinition of color scheme for dark theme */\n",
       "    --sklearn-color-text-on-default-background: var(--sg-text-color, var(--theme-code-foreground, var(--jp-content-font-color1, white)));\n",
       "    --sklearn-color-background: var(--sg-background-color, var(--theme-background, var(--jp-layout-color0, #111)));\n",
       "    --sklearn-color-border-box: var(--sg-text-color, var(--theme-code-foreground, var(--jp-content-font-color1, white)));\n",
       "    --sklearn-color-icon: #878787;\n",
       "  }\n",
       "}\n",
       "\n",
       "#sk-container-id-1 {\n",
       "  color: var(--sklearn-color-text);\n",
       "}\n",
       "\n",
       "#sk-container-id-1 pre {\n",
       "  padding: 0;\n",
       "}\n",
       "\n",
       "#sk-container-id-1 input.sk-hidden--visually {\n",
       "  border: 0;\n",
       "  clip: rect(1px 1px 1px 1px);\n",
       "  clip: rect(1px, 1px, 1px, 1px);\n",
       "  height: 1px;\n",
       "  margin: -1px;\n",
       "  overflow: hidden;\n",
       "  padding: 0;\n",
       "  position: absolute;\n",
       "  width: 1px;\n",
       "}\n",
       "\n",
       "#sk-container-id-1 div.sk-dashed-wrapped {\n",
       "  border: 1px dashed var(--sklearn-color-line);\n",
       "  margin: 0 0.4em 0.5em 0.4em;\n",
       "  box-sizing: border-box;\n",
       "  padding-bottom: 0.4em;\n",
       "  background-color: var(--sklearn-color-background);\n",
       "}\n",
       "\n",
       "#sk-container-id-1 div.sk-container {\n",
       "  /* jupyter's `normalize.less` sets `[hidden] { display: none; }`\n",
       "     but bootstrap.min.css set `[hidden] { display: none !important; }`\n",
       "     so we also need the `!important` here to be able to override the\n",
       "     default hidden behavior on the sphinx rendered scikit-learn.org.\n",
       "     See: https://github.com/scikit-learn/scikit-learn/issues/21755 */\n",
       "  display: inline-block !important;\n",
       "  position: relative;\n",
       "}\n",
       "\n",
       "#sk-container-id-1 div.sk-text-repr-fallback {\n",
       "  display: none;\n",
       "}\n",
       "\n",
       "div.sk-parallel-item,\n",
       "div.sk-serial,\n",
       "div.sk-item {\n",
       "  /* draw centered vertical line to link estimators */\n",
       "  background-image: linear-gradient(var(--sklearn-color-text-on-default-background), var(--sklearn-color-text-on-default-background));\n",
       "  background-size: 2px 100%;\n",
       "  background-repeat: no-repeat;\n",
       "  background-position: center center;\n",
       "}\n",
       "\n",
       "/* Parallel-specific style estimator block */\n",
       "\n",
       "#sk-container-id-1 div.sk-parallel-item::after {\n",
       "  content: \"\";\n",
       "  width: 100%;\n",
       "  border-bottom: 2px solid var(--sklearn-color-text-on-default-background);\n",
       "  flex-grow: 1;\n",
       "}\n",
       "\n",
       "#sk-container-id-1 div.sk-parallel {\n",
       "  display: flex;\n",
       "  align-items: stretch;\n",
       "  justify-content: center;\n",
       "  background-color: var(--sklearn-color-background);\n",
       "  position: relative;\n",
       "}\n",
       "\n",
       "#sk-container-id-1 div.sk-parallel-item {\n",
       "  display: flex;\n",
       "  flex-direction: column;\n",
       "}\n",
       "\n",
       "#sk-container-id-1 div.sk-parallel-item:first-child::after {\n",
       "  align-self: flex-end;\n",
       "  width: 50%;\n",
       "}\n",
       "\n",
       "#sk-container-id-1 div.sk-parallel-item:last-child::after {\n",
       "  align-self: flex-start;\n",
       "  width: 50%;\n",
       "}\n",
       "\n",
       "#sk-container-id-1 div.sk-parallel-item:only-child::after {\n",
       "  width: 0;\n",
       "}\n",
       "\n",
       "/* Serial-specific style estimator block */\n",
       "\n",
       "#sk-container-id-1 div.sk-serial {\n",
       "  display: flex;\n",
       "  flex-direction: column;\n",
       "  align-items: center;\n",
       "  background-color: var(--sklearn-color-background);\n",
       "  padding-right: 1em;\n",
       "  padding-left: 1em;\n",
       "}\n",
       "\n",
       "\n",
       "/* Toggleable style: style used for estimator/Pipeline/ColumnTransformer box that is\n",
       "clickable and can be expanded/collapsed.\n",
       "- Pipeline and ColumnTransformer use this feature and define the default style\n",
       "- Estimators will overwrite some part of the style using the `sk-estimator` class\n",
       "*/\n",
       "\n",
       "/* Pipeline and ColumnTransformer style (default) */\n",
       "\n",
       "#sk-container-id-1 div.sk-toggleable {\n",
       "  /* Default theme specific background. It is overwritten whether we have a\n",
       "  specific estimator or a Pipeline/ColumnTransformer */\n",
       "  background-color: var(--sklearn-color-background);\n",
       "}\n",
       "\n",
       "/* Toggleable label */\n",
       "#sk-container-id-1 label.sk-toggleable__label {\n",
       "  cursor: pointer;\n",
       "  display: block;\n",
       "  width: 100%;\n",
       "  margin-bottom: 0;\n",
       "  padding: 0.5em;\n",
       "  box-sizing: border-box;\n",
       "  text-align: center;\n",
       "}\n",
       "\n",
       "#sk-container-id-1 label.sk-toggleable__label-arrow:before {\n",
       "  /* Arrow on the left of the label */\n",
       "  content: \"▸\";\n",
       "  float: left;\n",
       "  margin-right: 0.25em;\n",
       "  color: var(--sklearn-color-icon);\n",
       "}\n",
       "\n",
       "#sk-container-id-1 label.sk-toggleable__label-arrow:hover:before {\n",
       "  color: var(--sklearn-color-text);\n",
       "}\n",
       "\n",
       "/* Toggleable content - dropdown */\n",
       "\n",
       "#sk-container-id-1 div.sk-toggleable__content {\n",
       "  max-height: 0;\n",
       "  max-width: 0;\n",
       "  overflow: hidden;\n",
       "  text-align: left;\n",
       "  /* unfitted */\n",
       "  background-color: var(--sklearn-color-unfitted-level-0);\n",
       "}\n",
       "\n",
       "#sk-container-id-1 div.sk-toggleable__content.fitted {\n",
       "  /* fitted */\n",
       "  background-color: var(--sklearn-color-fitted-level-0);\n",
       "}\n",
       "\n",
       "#sk-container-id-1 div.sk-toggleable__content pre {\n",
       "  margin: 0.2em;\n",
       "  border-radius: 0.25em;\n",
       "  color: var(--sklearn-color-text);\n",
       "  /* unfitted */\n",
       "  background-color: var(--sklearn-color-unfitted-level-0);\n",
       "}\n",
       "\n",
       "#sk-container-id-1 div.sk-toggleable__content.fitted pre {\n",
       "  /* unfitted */\n",
       "  background-color: var(--sklearn-color-fitted-level-0);\n",
       "}\n",
       "\n",
       "#sk-container-id-1 input.sk-toggleable__control:checked~div.sk-toggleable__content {\n",
       "  /* Expand drop-down */\n",
       "  max-height: 200px;\n",
       "  max-width: 100%;\n",
       "  overflow: auto;\n",
       "}\n",
       "\n",
       "#sk-container-id-1 input.sk-toggleable__control:checked~label.sk-toggleable__label-arrow:before {\n",
       "  content: \"▾\";\n",
       "}\n",
       "\n",
       "/* Pipeline/ColumnTransformer-specific style */\n",
       "\n",
       "#sk-container-id-1 div.sk-label input.sk-toggleable__control:checked~label.sk-toggleable__label {\n",
       "  color: var(--sklearn-color-text);\n",
       "  background-color: var(--sklearn-color-unfitted-level-2);\n",
       "}\n",
       "\n",
       "#sk-container-id-1 div.sk-label.fitted input.sk-toggleable__control:checked~label.sk-toggleable__label {\n",
       "  background-color: var(--sklearn-color-fitted-level-2);\n",
       "}\n",
       "\n",
       "/* Estimator-specific style */\n",
       "\n",
       "/* Colorize estimator box */\n",
       "#sk-container-id-1 div.sk-estimator input.sk-toggleable__control:checked~label.sk-toggleable__label {\n",
       "  /* unfitted */\n",
       "  background-color: var(--sklearn-color-unfitted-level-2);\n",
       "}\n",
       "\n",
       "#sk-container-id-1 div.sk-estimator.fitted input.sk-toggleable__control:checked~label.sk-toggleable__label {\n",
       "  /* fitted */\n",
       "  background-color: var(--sklearn-color-fitted-level-2);\n",
       "}\n",
       "\n",
       "#sk-container-id-1 div.sk-label label.sk-toggleable__label,\n",
       "#sk-container-id-1 div.sk-label label {\n",
       "  /* The background is the default theme color */\n",
       "  color: var(--sklearn-color-text-on-default-background);\n",
       "}\n",
       "\n",
       "/* On hover, darken the color of the background */\n",
       "#sk-container-id-1 div.sk-label:hover label.sk-toggleable__label {\n",
       "  color: var(--sklearn-color-text);\n",
       "  background-color: var(--sklearn-color-unfitted-level-2);\n",
       "}\n",
       "\n",
       "/* Label box, darken color on hover, fitted */\n",
       "#sk-container-id-1 div.sk-label.fitted:hover label.sk-toggleable__label.fitted {\n",
       "  color: var(--sklearn-color-text);\n",
       "  background-color: var(--sklearn-color-fitted-level-2);\n",
       "}\n",
       "\n",
       "/* Estimator label */\n",
       "\n",
       "#sk-container-id-1 div.sk-label label {\n",
       "  font-family: monospace;\n",
       "  font-weight: bold;\n",
       "  display: inline-block;\n",
       "  line-height: 1.2em;\n",
       "}\n",
       "\n",
       "#sk-container-id-1 div.sk-label-container {\n",
       "  text-align: center;\n",
       "}\n",
       "\n",
       "/* Estimator-specific */\n",
       "#sk-container-id-1 div.sk-estimator {\n",
       "  font-family: monospace;\n",
       "  border: 1px dotted var(--sklearn-color-border-box);\n",
       "  border-radius: 0.25em;\n",
       "  box-sizing: border-box;\n",
       "  margin-bottom: 0.5em;\n",
       "  /* unfitted */\n",
       "  background-color: var(--sklearn-color-unfitted-level-0);\n",
       "}\n",
       "\n",
       "#sk-container-id-1 div.sk-estimator.fitted {\n",
       "  /* fitted */\n",
       "  background-color: var(--sklearn-color-fitted-level-0);\n",
       "}\n",
       "\n",
       "/* on hover */\n",
       "#sk-container-id-1 div.sk-estimator:hover {\n",
       "  /* unfitted */\n",
       "  background-color: var(--sklearn-color-unfitted-level-2);\n",
       "}\n",
       "\n",
       "#sk-container-id-1 div.sk-estimator.fitted:hover {\n",
       "  /* fitted */\n",
       "  background-color: var(--sklearn-color-fitted-level-2);\n",
       "}\n",
       "\n",
       "/* Specification for estimator info (e.g. \"i\" and \"?\") */\n",
       "\n",
       "/* Common style for \"i\" and \"?\" */\n",
       "\n",
       ".sk-estimator-doc-link,\n",
       "a:link.sk-estimator-doc-link,\n",
       "a:visited.sk-estimator-doc-link {\n",
       "  float: right;\n",
       "  font-size: smaller;\n",
       "  line-height: 1em;\n",
       "  font-family: monospace;\n",
       "  background-color: var(--sklearn-color-background);\n",
       "  border-radius: 1em;\n",
       "  height: 1em;\n",
       "  width: 1em;\n",
       "  text-decoration: none !important;\n",
       "  margin-left: 1ex;\n",
       "  /* unfitted */\n",
       "  border: var(--sklearn-color-unfitted-level-1) 1pt solid;\n",
       "  color: var(--sklearn-color-unfitted-level-1);\n",
       "}\n",
       "\n",
       ".sk-estimator-doc-link.fitted,\n",
       "a:link.sk-estimator-doc-link.fitted,\n",
       "a:visited.sk-estimator-doc-link.fitted {\n",
       "  /* fitted */\n",
       "  border: var(--sklearn-color-fitted-level-1) 1pt solid;\n",
       "  color: var(--sklearn-color-fitted-level-1);\n",
       "}\n",
       "\n",
       "/* On hover */\n",
       "div.sk-estimator:hover .sk-estimator-doc-link:hover,\n",
       ".sk-estimator-doc-link:hover,\n",
       "div.sk-label-container:hover .sk-estimator-doc-link:hover,\n",
       ".sk-estimator-doc-link:hover {\n",
       "  /* unfitted */\n",
       "  background-color: var(--sklearn-color-unfitted-level-3);\n",
       "  color: var(--sklearn-color-background);\n",
       "  text-decoration: none;\n",
       "}\n",
       "\n",
       "div.sk-estimator.fitted:hover .sk-estimator-doc-link.fitted:hover,\n",
       ".sk-estimator-doc-link.fitted:hover,\n",
       "div.sk-label-container:hover .sk-estimator-doc-link.fitted:hover,\n",
       ".sk-estimator-doc-link.fitted:hover {\n",
       "  /* fitted */\n",
       "  background-color: var(--sklearn-color-fitted-level-3);\n",
       "  color: var(--sklearn-color-background);\n",
       "  text-decoration: none;\n",
       "}\n",
       "\n",
       "/* Span, style for the box shown on hovering the info icon */\n",
       ".sk-estimator-doc-link span {\n",
       "  display: none;\n",
       "  z-index: 9999;\n",
       "  position: relative;\n",
       "  font-weight: normal;\n",
       "  right: .2ex;\n",
       "  padding: .5ex;\n",
       "  margin: .5ex;\n",
       "  width: min-content;\n",
       "  min-width: 20ex;\n",
       "  max-width: 50ex;\n",
       "  color: var(--sklearn-color-text);\n",
       "  box-shadow: 2pt 2pt 4pt #999;\n",
       "  /* unfitted */\n",
       "  background: var(--sklearn-color-unfitted-level-0);\n",
       "  border: .5pt solid var(--sklearn-color-unfitted-level-3);\n",
       "}\n",
       "\n",
       ".sk-estimator-doc-link.fitted span {\n",
       "  /* fitted */\n",
       "  background: var(--sklearn-color-fitted-level-0);\n",
       "  border: var(--sklearn-color-fitted-level-3);\n",
       "}\n",
       "\n",
       ".sk-estimator-doc-link:hover span {\n",
       "  display: block;\n",
       "}\n",
       "\n",
       "/* \"?\"-specific style due to the `<a>` HTML tag */\n",
       "\n",
       "#sk-container-id-1 a.estimator_doc_link {\n",
       "  float: right;\n",
       "  font-size: 1rem;\n",
       "  line-height: 1em;\n",
       "  font-family: monospace;\n",
       "  background-color: var(--sklearn-color-background);\n",
       "  border-radius: 1rem;\n",
       "  height: 1rem;\n",
       "  width: 1rem;\n",
       "  text-decoration: none;\n",
       "  /* unfitted */\n",
       "  color: var(--sklearn-color-unfitted-level-1);\n",
       "  border: var(--sklearn-color-unfitted-level-1) 1pt solid;\n",
       "}\n",
       "\n",
       "#sk-container-id-1 a.estimator_doc_link.fitted {\n",
       "  /* fitted */\n",
       "  border: var(--sklearn-color-fitted-level-1) 1pt solid;\n",
       "  color: var(--sklearn-color-fitted-level-1);\n",
       "}\n",
       "\n",
       "/* On hover */\n",
       "#sk-container-id-1 a.estimator_doc_link:hover {\n",
       "  /* unfitted */\n",
       "  background-color: var(--sklearn-color-unfitted-level-3);\n",
       "  color: var(--sklearn-color-background);\n",
       "  text-decoration: none;\n",
       "}\n",
       "\n",
       "#sk-container-id-1 a.estimator_doc_link.fitted:hover {\n",
       "  /* fitted */\n",
       "  background-color: var(--sklearn-color-fitted-level-3);\n",
       "}\n",
       "</style><div id=\"sk-container-id-1\" class=\"sk-top-container\"><div class=\"sk-text-repr-fallback\"><pre>LinearRegression()</pre><b>In a Jupyter environment, please rerun this cell to show the HTML representation or trust the notebook. <br />On GitHub, the HTML representation is unable to render, please try loading this page with nbviewer.org.</b></div><div class=\"sk-container\" hidden><div class=\"sk-item\"><div class=\"sk-estimator fitted sk-toggleable\"><input class=\"sk-toggleable__control sk-hidden--visually\" id=\"sk-estimator-id-1\" type=\"checkbox\" checked><label for=\"sk-estimator-id-1\" class=\"sk-toggleable__label fitted sk-toggleable__label-arrow fitted\">&nbsp;&nbsp;LinearRegression<a class=\"sk-estimator-doc-link fitted\" rel=\"noreferrer\" target=\"_blank\" href=\"https://scikit-learn.org/1.4/modules/generated/sklearn.linear_model.LinearRegression.html\">?<span>Documentation for LinearRegression</span></a><span class=\"sk-estimator-doc-link fitted\">i<span>Fitted</span></span></label><div class=\"sk-toggleable__content fitted\"><pre>LinearRegression()</pre></div> </div></div></div></div>"
      ],
      "text/plain": [
       "LinearRegression()"
      ]
     },
     "execution_count": 14,
     "metadata": {},
     "output_type": "execute_result"
    }
   ],
   "source": [
    "lm.fit(X, Y)"
   ]
  },
  {
   "cell_type": "code",
   "execution_count": 15,
   "id": "b6282df0-0283-4306-81eb-94c399e9f0e7",
   "metadata": {},
   "outputs": [],
   "source": [
    "Yhat = lm.predict(X)"
   ]
  },
  {
   "cell_type": "code",
   "execution_count": 16,
   "id": "9345ce19-b490-451f-8a8b-215129d50136",
   "metadata": {},
   "outputs": [
    {
     "data": {
      "text/plain": [
       "array([-821.73337832])"
      ]
     },
     "execution_count": 16,
     "metadata": {},
     "output_type": "execute_result"
    }
   ],
   "source": [
    "# b0\n",
    "lm.intercept_\n",
    "# b1\n",
    "lm.coef_"
   ]
  },
  {
   "cell_type": "markdown",
   "id": "aeb41ab6-8ad6-4813-b092-76c676e98237",
   "metadata": {},
   "source": [
    "## Multiple Linear Regression (MLR)"
   ]
  },
  {
   "cell_type": "code",
   "execution_count": null,
   "id": "356a6555-1f0d-4115-ba69-2271a9215a03",
   "metadata": {},
   "outputs": [],
   "source": [
    "Z = df[['horsepower', 'curb-weight', 'engine-size', 'highway-mpg']]\n",
    "lm.fit(Z, df['price'])"
   ]
  },
  {
   "cell_type": "code",
   "execution_count": null,
   "id": "0ee7c0fb-0f6c-4e4f-b850-9a13dc05ba90",
   "metadata": {},
   "outputs": [],
   "source": [
    "lm.intercept_\n",
    "lm.coef_"
   ]
  },
  {
   "cell_type": "code",
   "execution_count": null,
   "id": "5c764ef8-9492-4b0c-86b7-03a5d739e4e3",
   "metadata": {},
   "outputs": [],
   "source": [
    "Y_hat = lm.predict(Z)\n",
    "plt.figure(figsize=(width, height))\n",
    "\n",
    "\n",
    "ax1 = sns.distplot(df['price'], hist=False, color=\"r\", label=\"Actual Value\")\n",
    "sns.distplot(Y_hat, hist=False, color=\"b\", label=\"Fitted Values\" , ax=ax1)\n",
    "\n",
    "\n",
    "plt.title('Actual vs Fitted Values for Price')\n",
    "plt.xlabel('Price (in dollars)')\n",
    "plt.ylabel('Proportion of Cars')\n",
    "\n",
    "plt.show()\n",
    "plt.close()"
   ]
  },
  {
   "cell_type": "markdown",
   "id": "1d39b020-55bf-40ab-b04f-77b24d47737f",
   "metadata": {},
   "source": [
    "distribution plot for y and yhat can help to find model accuracy"
   ]
  },
  {
   "cell_type": "code",
   "execution_count": 2,
   "id": "eaa329fe-63a8-480b-8af8-25faead73fdc",
   "metadata": {},
   "outputs": [],
   "source": [
    "import seaborn as sns"
   ]
  },
  {
   "cell_type": "markdown",
   "id": "13da9fb0-0827-499b-8ad7-6870c2426f65",
   "metadata": {},
   "source": [
    "ax1 = sns.distplot(df['price'], hist = False, color='r', label='Actual Value')\n",
    "sns.distplot(Yhat, hist=False, color='b', label='fitted Value', ax=ax1)"
   ]
  },
  {
   "cell_type": "markdown",
   "id": "2d829190-c9a8-4b40-bc9d-d2b80a7543fe",
   "metadata": {},
   "source": [
    "## Polynomial regression"
   ]
  },
  {
   "cell_type": "code",
   "execution_count": null,
   "id": "76fb03b0-9775-4279-a6f0-74f0d0f68dce",
   "metadata": {},
   "outputs": [],
   "source": []
  },
  {
   "cell_type": "code",
   "execution_count": null,
   "id": "177bd3e2-5d8e-4894-97d0-659dcf7464ae",
   "metadata": {},
   "outputs": [],
   "source": [
    "def PlotPolly(model, independent_variable, dependent_variabble, Name):\n",
    "    x_new = np.linspace(15, 55, 100)\n",
    "    y_new = model(x_new)\n",
    "\n",
    "    plt.plot(independent_variable, dependent_variabble, '.', x_new, y_new, '-')\n",
    "    plt.title('Polynomial Fit with Matplotlib for Price ~ Length')\n",
    "    ax = plt.gca()\n",
    "    ax.set_facecolor((0.898, 0.898, 0.898))\n",
    "    fig = plt.gcf()\n",
    "    plt.xlabel(Name)\n",
    "    plt.ylabel('Price of Cars')\n",
    "\n",
    "    plt.show()\n",
    "    plt.close()"
   ]
  },
  {
   "cell_type": "code",
   "execution_count": null,
   "id": "39f5928d-5d22-4b89-ab99-1560ead26a40",
   "metadata": {},
   "outputs": [],
   "source": [
    "x = df['highway-mpg']\n",
    "y = df['price']"
   ]
  },
  {
   "cell_type": "code",
   "execution_count": null,
   "id": "13d89a53-ffbf-4bbb-913b-bc7c3e5c9f62",
   "metadata": {},
   "outputs": [],
   "source": [
    "# calculate polynomial of 3rd order\n",
    "f = np.polyfit(x,y,3)\n",
    "p = np.polyld(f)\n",
    "print(p)"
   ]
  },
  {
   "cell_type": "code",
   "execution_count": null,
   "id": "468e5a41-76bb-4625-a4ed-e3ea4ba0b07d",
   "metadata": {},
   "outputs": [],
   "source": [
    "PlotPolly(p, x, y, 'highway-mpg')\n",
    "np.polyfit(x, y, 3)"
   ]
  },
  {
   "cell_type": "markdown",
   "id": "b6158f0c-566a-4f46-9507-f45a58b1d6be",
   "metadata": {},
   "source": [
    "### polunomial with more than 1 dimentions"
   ]
  },
  {
   "cell_type": "code",
   "execution_count": null,
   "id": "f4814f74-6a47-4255-90b5-dcd5d8ff66a6",
   "metadata": {},
   "outputs": [],
   "source": [
    "from sklearn.preprocessing import PolynomialFeatures\n",
    "pr = PolynomialFeatures(degree=2, include_bias=False)\n",
    "x_polly = pr.fit_transform(x[['horsepower', 'crub-weight']])\n"
   ]
  },
  {
   "cell_type": "markdown",
   "id": "e6f3ae8e-2fb0-44d7-be4b-ba3eea589146",
   "metadata": {},
   "source": [
    "## pipelines"
   ]
  },
  {
   "cell_type": "code",
   "execution_count": null,
   "id": "83dc2415-9ffc-4949-83da-67311d3e2950",
   "metadata": {},
   "outputs": [],
   "source": [
    "from sklearn.preprocessing import PolynomialFeatures\n",
    "from sklearn.linear_model import LinearRegression\n",
    "from sklearn.preprocessing import StandardScaler\n",
    "from sklearn.pipeline import Pipeline"
   ]
  },
  {
   "cell_type": "code",
   "execution_count": null,
   "id": "2aca3725-007f-4db1-95fc-752683886345",
   "metadata": {},
   "outputs": [],
   "source": [
    "Input = [('scale', StandardScaler()),\n",
    "         ('polynomial', PolynomialFeatures(degree=2),\n",
    "         ('model', LinearRegression())]\n",
    "pipe = Pipeline(Input)"
   ]
  },
  {
   "cell_type": "code",
   "execution_count": null,
   "id": "b98e8d58-fe36-4dbd-88fa-11e6b861abad",
   "metadata": {},
   "outputs": [],
   "source": [
    "pipe.fit(df [['horsepower', 'crub-weight', 'engine-size', 'highway-mpg']], y)\n",
    "yhat = pipe.predict(X[['horsepower', 'crub-weight', 'engine-size', 'highway-mpg']])"
   ]
  },
  {
   "cell_type": "markdown",
   "id": "564f57b9-8ddd-4556-8466-19ae3308007c",
   "metadata": {},
   "source": [
    "# Numerical Evaluation"
   ]
  },
  {
   "cell_type": "markdown",
   "id": "7f69edd9-2430-40fd-ae04-69245ceba3ed",
   "metadata": {},
   "source": [
    "## Mean Squared error"
   ]
  },
  {
   "cell_type": "code",
   "execution_count": null,
   "id": "3177c856-705c-4d38-b61f-7f050e718472",
   "metadata": {},
   "outputs": [],
   "source": [
    "from sklearn.metrics import mean_squared_error\n",
    "mean_squared_eroor(df['price'], Y_predict_simple_fit)"
   ]
  },
  {
   "cell_type": "markdown",
   "id": "aedc6cc5-64f4-4872-b52b-715cec1e248b",
   "metadata": {},
   "source": [
    "## R-squared"
   ]
  },
  {
   "cell_type": "code",
   "execution_count": null,
   "id": "d0b3c516-6574-447d-84cf-68febf2d5973",
   "metadata": {},
   "outputs": [],
   "source": [
    "X = df[['highway-mpg']]\n",
    "Y = df['price']\n",
    "lm.fit(X,Y)\n",
    "lm.score(X,Y)"
   ]
  },
  {
   "cell_type": "markdown",
   "id": "ef0cffaf-3d47-45b8-99fa-f9da8778c078",
   "metadata": {},
   "source": [
    "# Model Evaluation and refinement"
   ]
  },
  {
   "cell_type": "markdown",
   "id": "68868526-820c-4e1c-8e05-3775059ecb8b",
   "metadata": {},
   "source": [
    "## Split data into train and test subsets"
   ]
  },
  {
   "cell_type": "code",
   "execution_count": null,
   "id": "59062688-cba3-4022-a123-3b8186f8e51b",
   "metadata": {},
   "outputs": [],
   "source": [
    "from sklearn.model_selection import train_test_split"
   ]
  },
  {
   "cell_type": "code",
   "execution_count": null,
   "id": "f4873eac-1d51-4fc5-8147-733fd3fddf95",
   "metadata": {},
   "outputs": [],
   "source": [
    "x_train, x_test, y_train, y_test = train_test_split(x_date, y_date, test_size=0.3, random_state=0)"
   ]
  },
  {
   "cell_type": "markdown",
   "id": "142a5ecf-2e2f-4b9b-94a9-ed1a385bbc10",
   "metadata": {},
   "source": [
    "## evaluating cross-validation score"
   ]
  },
  {
   "cell_type": "code",
   "execution_count": null,
   "id": "2bfc3936-2518-44ec-8f43-b91628f8da30",
   "metadata": {},
   "outputs": [],
   "source": [
    "from sklearn.model_selection inport cross_vall_score \n",
    "scores = cross_val_score(lr, x_data, y_data, cv=3)\n",
    "# lr :linear regressin\n",
    "# cv : data partition\n",
    "np.mean(scores)"
   ]
  }
 ],
 "metadata": {
  "kernelspec": {
   "display_name": "Python 3 (ipykernel)",
   "language": "python",
   "name": "python3"
  },
  "language_info": {
   "codemirror_mode": {
    "name": "ipython",
    "version": 3
   },
   "file_extension": ".py",
   "mimetype": "text/x-python",
   "name": "python",
   "nbconvert_exporter": "python",
   "pygments_lexer": "ipython3",
   "version": "3.10.12"
  }
 },
 "nbformat": 4,
 "nbformat_minor": 5
}
