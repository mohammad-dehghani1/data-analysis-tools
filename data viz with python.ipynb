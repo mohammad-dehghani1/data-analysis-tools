{
 "cells": [
  {
   "cell_type": "markdown",
   "id": "6faf873e-44c3-4479-a4a3-dd1ab3812b2c",
   "metadata": {},
   "source": [
    "# Matplotlib knowledge"
   ]
  },
  {
   "cell_type": "markdown",
   "id": "fe7de119-e14c-4512-8fd9-f7d7a34ecea6",
   "metadata": {},
   "source": [
    "## 1-Backend layer\n",
    "###  FigureCanvas: matplotlib.backend_bases.FigureCanvas\n",
    "-Encompasses the area onto which the figure is drawn\n",
    "\n",
    "###  Render: matplotlib.backend_bases.Render\n",
    "\n",
    "###  Event matplotlib.backend_bases.Event"
   ]
  },
  {
   "cell_type": "code",
   "execution_count": 28,
   "id": "c127a360-3c61-49ba-a05a-73aa9e5490aa",
   "metadata": {},
   "outputs": [],
   "source": [
    "%matplotlib inline\n",
    "import matplotlib.pyplot as plt"
   ]
  },
  {
   "cell_type": "code",
   "execution_count": 29,
   "id": "80dd525e-bce7-416f-a8c3-21bc050e2c1f",
   "metadata": {},
   "outputs": [
    {
     "data": {
      "text/plain": [
       "[<matplotlib.lines.Line2D at 0x7fb450d04cd0>]"
      ]
     },
     "execution_count": 29,
     "metadata": {},
     "output_type": "execute_result"
    },
    {
     "data": {
      "image/png": "[encoded data removed]",
      "text/plain": [
       "<Figure size 640x480 with 1 Axes>"
      ]
     },
     "metadata": {},
     "output_type": "display_data"
    }
   ],
   "source": [
    "plt.plot(5, 5, 'o')\n"
   ]
  },
  {
   "cell_type": "code",
   "execution_count": 36,
   "id": "e2db8078-c6f2-4c7c-ace9-4bd3f1a0a5a7",
   "metadata": {},
   "outputs": [],
   "source": [
    "import numpy as np\n",
    "import pandas as pd"
   ]
  },
  {
   "cell_type": "code",
   "execution_count": 35,
   "id": "f1ea0165-8c29-4997-9105-e3e7b4b1669e",
   "metadata": {},
   "outputs": [
    {
     "name": "stdout",
     "output_type": "stream",
     "text": [
      "Defaulting to user installation because normal site-packages is not writeable\n",
      "Collecting openpyxl\n",
      "  Downloading openpyxl-3.1.2-py2.py3-none-any.whl (249 kB)\n",
      "\u001b[2K     \u001b[38;2;114;156;31m━━━━━━━━━━━━━━━━━━━━━━━━━━━━━━━━━━━━━\u001b[0m \u001b[32m250.0/250.0 KB\u001b[0m \u001b[31m733.3 kB/s\u001b[0m eta \u001b[36m0:00:00\u001b[0m kB/s\u001b[0m eta \u001b[36m0:00:01\u001b[0m:01\u001b[0m\n",
      "\u001b[?25hCollecting et-xmlfile\n",
      "  Downloading et_xmlfile-1.1.0-py3-none-any.whl (4.7 kB)\n",
      "Installing collected packages: et-xmlfile, openpyxl\n",
      "Successfully installed et-xmlfile-1.1.0 openpyxl-3.1.2\n",
      "Note: you may need to restart the kernel to use updated packages.\n"
     ]
    }
   ],
   "source": [
    "pip install openpyxl # for read exel file in pandas"
   ]
  },
  {
   "cell_type": "code",
   "execution_count": 37,
   "id": "6cadda43-dfc4-4a00-8f53-f90b485a2d13",
   "metadata": {},
   "outputs": [],
   "source": [
    "df_can = pd.read_excel(\n",
    "    'https://cf-courses-data.s3.us.cloud-object-storage.appdomain.cloud/IBMDeveloperSkillsNetwork-DV0101EN-SkillsNetwork/Data%20Files/Canada.xlsx',\n",
    "    sheet_name='Canada by Citizenship',\n",
    "    skiprows=range(20),\n",
    "    skipfooter=2)"
   ]
  },
  {
   "cell_type": "code",
   "execution_count": 40,
   "id": "f53a889d-3d52-4f6b-a7bf-667deeb74e42",
   "metadata": {},
   "outputs": [
    {
     "name": "stdout",
     "output_type": "stream",
     "text": [
      "<class 'pandas.core.frame.DataFrame'>\n",
      "RangeIndex: 195 entries, 0 to 194\n",
      "Columns: 43 entries, Type to 2013\n",
      "dtypes: int64(37), object(6)\n",
      "memory usage: 65.6+ KB\n"
     ]
    }
   ],
   "source": [
    "df_can.info(verbose=False)"
   ]
  },
  {
   "cell_type": "code",
   "execution_count": 42,
   "id": "9e543a20-7e70-42d1-ac7c-4159623261df",
   "metadata": {},
   "outputs": [
    {
     "data": {
      "text/plain": [
       "RangeIndex(start=0, stop=195, step=1)"
      ]
     },
     "execution_count": 42,
     "metadata": {},
     "output_type": "execute_result"
    }
   ],
   "source": [
    "df_can.columns\n",
    "df_can.index"
   ]
  },
  {
   "cell_type": "code",
   "execution_count": 43,
   "id": "dc6fa066-a3db-45fb-abbf-6886897c7e06",
   "metadata": {},
   "outputs": [
    {
     "name": "stdout",
     "output_type": "stream",
     "text": [
      "<class 'pandas.core.indexes.base.Index'>\n",
      "<class 'pandas.core.indexes.range.RangeIndex'>\n"
     ]
    }
   ],
   "source": [
    "print(type(df_can.columns))\n",
    "print(type(df_can.index))"
   ]
  },
  {
   "cell_type": "markdown",
   "id": "289e983a-e51e-4fcc-b27f-0557f4648432",
   "metadata": {},
   "source": [
    "To get the index and columns as lists, we can use the `tolist()` method."
   ]
  },
  {
   "cell_type": "code",
   "execution_count": null,
   "id": "d337f431-40bd-4203-b0d3-ab13c0e40526",
   "metadata": {},
   "outputs": [],
   "source": [
    "df_can.columns.tolist()\n",
    "df_can.index.tolist()"
   ]
  },
  {
   "cell_type": "code",
   "execution_count": null,
   "id": "c7ff8894-21ad-4436-9cc1-cf2cefb11431",
   "metadata": {},
   "outputs": [],
   "source": [
    "# size of dataframe (rows, columns)\n",
    "df_can.shape"
   ]
  },
  {
   "cell_type": "code",
   "execution_count": null,
   "id": "fd63ab13-2f7e-4ecd-a49a-e425faef1bf9",
   "metadata": {},
   "outputs": [],
   "source": [
    "# in pandas axis=0 represents rows (default) and axis=1 represents columns.\n",
    "df_can.drop(['AREA','REG','DEV','Type','Coverage'], axis=1, inplace=True)"
   ]
  },
  {
   "cell_type": "code",
   "execution_count": 50,
   "id": "a78af125-6ca5-47d5-883b-76a108799a4f",
   "metadata": {},
   "outputs": [],
   "source": [
    "df_can.rename(columns={'OdName':'Country', 'AreaName':'Continent', 'RegName':'Region'}, inplace=True)"
   ]
  },
  {
   "cell_type": "code",
   "execution_count": null,
   "id": "f778e331-a99d-42dc-a8df-6caedb8201f4",
   "metadata": {},
   "outputs": [],
   "source": [
    "df_can['Total'] = df_can.sum(axis=1)"
   ]
  },
  {
   "cell_type": "code",
   "execution_count": null,
   "id": "9c2579ad-f892-4d8c-8d11-04ef3721771f",
   "metadata": {},
   "outputs": [],
   "source": [
    "df_can.isnull().sum()"
   ]
  },
  {
   "cell_type": "markdown",
   "id": "09a0527a-015a-41d3-a4b4-1ba4a9937a49",
   "metadata": {},
   "source": [
    "## Indexing and Selection (slicing)"
   ]
  },
  {
   "cell_type": "markdown",
   "id": "62a63db3-9454-431a-89e8-e2d19f692e0e",
   "metadata": {},
   "source": [
    "### Select Column\n",
    "**There are two ways to filter on a column name:**\n",
    "\n",
    "Method 1: Quick and easy, but only works if the column name does NOT have spaces or special characters.\n",
    "```python\n",
    "    df.column_name               # returns series\n",
    "```\n",
    "\n",
    "Method 2: More robust, and can filter on multiple columns.\n",
    "\n",
    "```python\n",
    "    df['column']                  # returns series\n",
    "```\n",
    "\n",
    "```python \n",
    "    df[['column 1', 'column 2']]  # returns dataframe\n",
    "```\n",
    "---\n"
   ]
  },
  {
   "cell_type": "markdown",
   "id": "deb7ec08-3d79-496b-a068-14e50546c8a9",
   "metadata": {},
   "source": [
    "### Select Row\n",
    "\n",
    "There are main 2 ways to select rows:\n",
    "\n",
    "```python\n",
    "    df.loc[label]    # filters by the labels of the index/column\n",
    "    df.iloc[index]   # filters by the positions of the index/column\n",
    "```\n"
   ]
  },
  {
   "cell_type": "code",
   "execution_count": 59,
   "id": "ea6cb548-3859-46e4-be40-59778fc78315",
   "metadata": {},
   "outputs": [],
   "source": [
    "df_can.set_index('Country', inplace=True)\n",
    "# tip: The opposite of set is reset. So to reset the index, we can use df_can.reset_index()"
   ]
  },
  {
   "cell_type": "code",
   "execution_count": 55,
   "id": "071e10ad-95ab-4db7-b909-bf1b07eb4979",
   "metadata": {},
   "outputs": [],
   "source": [
    "# to remove the name of the index\n",
    "df_can.index.name = None"
   ]
  },
  {
   "cell_type": "markdown",
   "id": "230e4591-7f1f-4f50-be44-22bdfcff1438",
   "metadata": {},
   "source": [
    "Example: Let's view the number of immigrants from Japan (row 87) for the following scenarios:\n",
    "    1. The full row data (all columns)\n",
    "    2. For year 2013\n",
    "    3. For years 1980 to 1985\n"
   ]
  },
  {
   "cell_type": "code",
   "execution_count": null,
   "id": "20278ddf-2f13-4e99-afcb-4a6b5579f2fc",
   "metadata": {},
   "outputs": [],
   "source": [
    "# 1. the full row data (all columns)\n",
    "df_can.loc['Japan']"
   ]
  },
  {
   "cell_type": "code",
   "execution_count": null,
   "id": "c63239d0-b6c5-4260-833b-5a957495ff90",
   "metadata": {},
   "outputs": [],
   "source": [
    "# alternate methods\n",
    "df_can.iloc[87]"
   ]
  },
  {
   "cell_type": "code",
   "execution_count": null,
   "id": "4b8c591e-7428-4841-b0ae-858cee727135",
   "metadata": {},
   "outputs": [],
   "source": [
    "df_can[df_can.index == 'Japan']"
   ]
  },
  {
   "cell_type": "code",
   "execution_count": null,
   "id": "e05b735e-a716-47a8-82cb-b5c0e8a288ae",
   "metadata": {},
   "outputs": [],
   "source": [
    "# 2. for year 2013\n",
    "df_can.loc['Japan', 2013]"
   ]
  },
  {
   "cell_type": "code",
   "execution_count": null,
   "id": "2578459b-881f-4cd1-8199-278aab0dd8a9",
   "metadata": {},
   "outputs": [],
   "source": [
    "# alternate method\n",
    "# year 2013 is the last column, with a positional index of 36\n",
    "df_can.iloc[87, 36]"
   ]
  },
  {
   "cell_type": "code",
   "execution_count": null,
   "id": "95d1fa6c-286d-4d97-8b53-90a5cd72abf2",
   "metadata": {},
   "outputs": [],
   "source": [
    "# 3. for years 1980 to 1985\n",
    "df_can.loc['Japan', [1980, 1981, 1982, 1983, 1984, 1984]]"
   ]
  },
  {
   "cell_type": "code",
   "execution_count": null,
   "id": "70b36d53-8c5d-44f3-9723-bd7e9e231ee5",
   "metadata": {},
   "outputs": [],
   "source": [
    "# Alternative Method\n",
    "df_can.iloc[87, [3, 4, 5, 6, 7, 8]]"
   ]
  },
  {
   "cell_type": "code",
   "execution_count": null,
   "id": "648ceb6e-055f-4a3c-8ae7-68ba62c6f5b0",
   "metadata": {},
   "outputs": [],
   "source": [
    "# convert all column names to string\n",
    "df_can.columns = list(map(str, df_can.columns))\n",
    "# [print (type(x)) for x in df_can.columns.values] #<-- uncomment to check type of column headers"
   ]
  },
  {
   "cell_type": "code",
   "execution_count": 68,
   "id": "0cf0b0cf-724a-4195-8dd7-89d26b4409c2",
   "metadata": {},
   "outputs": [],
   "source": [
    "years = list(map(str, range(1980, 2014)))"
   ]
  },
  {
   "cell_type": "markdown",
   "id": "b149ceb9-bdfc-4418-af49-ead23d1f29b2",
   "metadata": {},
   "source": [
    "### Filtering based on a criteria"
   ]
  },
  {
   "cell_type": "code",
   "execution_count": null,
   "id": "6539cf67-4b84-4eaf-9675-c2e0f61b59f5",
   "metadata": {},
   "outputs": [],
   "source": [
    "# 1. create the condition boolean series\n",
    "condition = df_can['Continent'] == 'Asia'\n",
    "print(condition)"
   ]
  },
  {
   "cell_type": "code",
   "execution_count": null,
   "id": "f9d34bcf-3458-4c4f-8636-0397e38d78b4",
   "metadata": {},
   "outputs": [],
   "source": [
    "# 2. pass this condition into the dataFrame\n",
    "df_can[condition]"
   ]
  },
  {
   "cell_type": "code",
   "execution_count": null,
   "id": "e2feb216-6d31-451c-a7c8-cd928c98b997",
   "metadata": {},
   "outputs": [],
   "source": [
    "# find rows contain strings\n",
    "title = df['text_column'].str.contains('text term')\n",
    "df [title]"
   ]
  },
  {
   "cell_type": "code",
   "execution_count": null,
   "id": "399d899d-39ef-42d9-91ce-b8fce5ae0606",
   "metadata": {},
   "outputs": [],
   "source": [
    "# multiple criteria .\n",
    "# let's filter for AreaNAme = Asia and RegName = Southern Asia\n",
    "\n",
    "df_can[(df_can['Continent']=='Asia') & (df_can['Region']=='Southern Asia')]\n",
    "\n",
    "# note: When using 'and' and 'or' operators, pandas requires we use '&' and '|' instead of 'and' and 'or'\n",
    "# don't forget to enclose the two conditions in parentheses"
   ]
  },
  {
   "cell_type": "markdown",
   "id": "257146d2-f211-482b-90ff-f1a95e007454",
   "metadata": {},
   "source": [
    "### Sorting Values of a Dataframe or Series\n",
    "```df.sort_values(col_name, axis=0, ascending=True, inplace=False, ignore_index=False)```<br><br>\n",
    "col_nam - the column(s) to sort by. <br>\n",
    "axis - axis along which to sort. 0 for sorting by rows (default) and 1 for sorting by columns.<br>\n",
    "ascending - to sort in ascending order (True, default) or descending order (False).<br>\n",
    "inplace - to perform the sorting operation in-place (True) or return a sorted copy (False, default).<br>\n",
    "ignore_index - to reset the index after sorting (True) or keep the original index values (False, default).<br>"
   ]
  },
  {
   "cell_type": "code",
   "execution_count": null,
   "id": "7841cd82-42ae-46c6-a531-3352ec86e9e3",
   "metadata": {},
   "outputs": [],
   "source": [
    "df_can.sort_values(by='Total', ascending=False, axis=0, inplace=True)\n",
    "df_can.sort_values(by=['Seniority','Salary'],ascending=[False,True])\n"
   ]
  }
 ],
 "metadata": {
  "kernelspec": {
   "display_name": "Python 3 (ipykernel)",
   "language": "python",
   "name": "python3"
  },
  "language_info": {
   "codemirror_mode": {
    "name": "ipython",
    "version": 3
   },
   "file_extension": ".py",
   "mimetype": "text/x-python",
   "name": "python",
   "nbconvert_exporter": "python",
   "pygments_lexer": "ipython3",
   "version": "3.10.12"
  }
 },
 "nbformat": 4,
 "nbformat_minor": 5
}
